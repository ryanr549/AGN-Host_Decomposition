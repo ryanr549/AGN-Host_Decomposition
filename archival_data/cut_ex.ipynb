{
 "cells": [
  {
   "cell_type": "code",
   "execution_count": 1,
   "id": "e788d741-f7a5-4983-9979-f73fc6a49efc",
   "metadata": {},
   "outputs": [],
   "source": [
    "from astropy.io import fits\n",
    "from astropy.nddata import NDData, CCDData, Cutout2D\n",
    "import numpy as np\n",
    "import matplotlib.pyplot as plt\n",
    "from astropy.wcs import WCS\n",
    "from os import path\n",
    "\n",
    "acv_cat = fits.open('field_cat.fits')\n",
    "data_cat = acv_cat[1].data"
   ]
  },
  {
   "cell_type": "code",
   "execution_count": null,
   "id": "09980257-48a3-4705-90c2-cf67ceaf3fc2",
   "metadata": {},
   "outputs": [
    {
     "data": {
      "text/plain": [
       "(59, 34.026699, -5.0602002, 1.411, 7.9400001, 0.0, 0.0, 'nan', 'nan', 'IDNL18010', 'nan', 'nan', 'nan', 'nan', 'nan', 'nan', 'nan', 'nan', 'nan')"
      ]
     },
     "execution_count": 7,
     "metadata": {},
     "output_type": "execute_result"
    }
   ],
   "source": [
    "data_cat[59]"
   ]
  },
  {
   "cell_type": "code",
   "execution_count": 2,
   "id": "7d9ffadc-299b-4934-9452-c548df53c043",
   "metadata": {},
   "outputs": [],
   "source": [
    "image = fits.open('dataset_all/IDNL18010/idnl18010_drz.fits')"
   ]
  },
  {
   "cell_type": "code",
   "execution_count": 10,
   "id": "191922ae-b522-482a-8885-d150294be544",
   "metadata": {},
   "outputs": [],
   "source": [
    "# Set the WCS information manually by setting properties of the WCS\n",
    "# object.\n",
    "\n",
    "import numpy as np\n",
    "from astropy import wcs\n",
    "from astropy.io import fits\n",
    "\n",
    "# Create a new WCS object.  The number of axes must be set\n",
    "# from the start\n",
    "w = wcs.WCS(naxis=2)\n",
    "\n",
    "# Set up an \"Airy's zenithal\" projection\n",
    "# Vector properties may be set with Python lists, or Numpy arrays\n",
    "w.wcs.crpix = [-234.75, 8.3393]\n",
    "w.wcs.cdelt = np.array([-0.066667, 0.066667])\n",
    "w.wcs.crval = [0, -90]\n",
    "w.wcs.ctype = [\"RA---AIR\", \"DEC--AIR\"]\n",
    "w.wcs.set_pv([(2, 1, 45.0)])"
   ]
  },
  {
   "cell_type": "code",
   "execution_count": 11,
   "id": "99515dc0-f50b-4226-ab3e-36b569c51e18",
   "metadata": {},
   "outputs": [
    {
     "name": "stdout",
     "output_type": "stream",
     "text": [
      "[[268.21686048 -73.66991904]\n",
      " [276.73200097 -71.89766949]\n",
      " [287.89647405 -69.59151783]]\n",
      "[[ 1.02318154e-12 -1.65201186e-13]\n",
      " [ 2.40000000e+01  3.80000000e+01]\n",
      " [ 4.50000000e+01  9.80000000e+01]]\n"
     ]
    }
   ],
   "source": [
    "# Three pixel coordinates of interest.\n",
    "# The pixel coordinates are pairs of [X, Y].\n",
    "# The \"origin\" argument indicates whether the input coordinates\n",
    "# are 0-based (as in Numpy arrays) or\n",
    "# 1-based (as in the FITS convention, for example coordinates\n",
    "# coming from DS9).\n",
    "pixcrd = np.array([[0, 0], [24, 38], [45, 98]], dtype=np.float64)\n",
    "\n",
    "# Convert pixel coordinates to world coordinates.\n",
    "# The second argument is \"origin\" -- in this case we're declaring we\n",
    "# have 0-based (Numpy-like) coordinates.\n",
    "world = w.wcs_pix2world(pixcrd, 0)\n",
    "print(world)\n",
    "\n",
    "# Convert the same coordinates back to pixel coordinates.\n",
    "pixcrd2 = w.wcs_world2pix(world, 0)\n",
    "print(pixcrd2)\n",
    "\n",
    "# These should be the same as the original pixel coordinates, modulo\n",
    "# some floating-point error.\n",
    "assert np.max(np.abs(pixcrd - pixcrd2)) < 1e-6"
   ]
  },
  {
   "cell_type": "code",
   "execution_count": 12,
   "id": "37097641-009c-4ac7-9fb7-9beaa45f1fe2",
   "metadata": {},
   "outputs": [],
   "source": [
    "# The example below illustrates the use of \"origin\" to convert between\n",
    "# 0- and 1- based coordinates when executing the forward and backward\n",
    "# WCS transform.\n",
    "x = 0\n",
    "y = 0\n",
    "origin = 0\n",
    "assert (w.wcs_pix2world(x, y, origin) ==\n",
    "        w.wcs_pix2world(x + 1, y + 1, origin + 1))\n",
    "\n",
    "# Now, write out the WCS object as a FITS header\n",
    "header = w.to_header()\n",
    "\n",
    "# header is an astropy.io.fits.Header object.  We can use it to create a new\n",
    "# PrimaryHDU and write it to a file.\n",
    "hdu = fits.PrimaryHDU(header=header)\n",
    "# Save to FITS file\n",
    "# hdu.writeto('test.fits')"
   ]
  },
  {
   "cell_type": "code",
   "execution_count": 13,
   "id": "bcb1bf21-e1d6-4088-8cff-202f6ac59092",
   "metadata": {},
   "outputs": [
    {
     "data": {
      "text/plain": [
       "WCS Keywords\n",
       "\n",
       "Number of WCS axes: 2\n",
       "CTYPE : 'RA---AIR'  'DEC--AIR'  \n",
       "CRVAL : 0.0  -90.0  \n",
       "CRPIX : -234.75  8.3393  \n",
       "PC1_1 PC1_2  : 1.0  0.0  \n",
       "PC2_1 PC2_2  : 0.0  1.0  \n",
       "CDELT : -0.066667  0.066667  \n",
       "NAXIS : 0  0"
      ]
     },
     "execution_count": 13,
     "metadata": {},
     "output_type": "execute_result"
    }
   ],
   "source": [
    "from astropy.utils.data import get_pkg_data_filename\n",
    "fn = get_pkg_data_filename"
   ]
  },
  {
   "cell_type": "code",
   "execution_count": 18,
   "id": "4a139303-93bd-4388-802b-3eb2c10ee8fc",
   "metadata": {},
   "outputs": [],
   "source": [
    "w = WCS(image[1].header)"
   ]
  },
  {
   "cell_type": "code",
   "execution_count": 40,
   "id": "c88de0ba-bccb-4f99-a456-8a5cb2da1cb9",
   "metadata": {},
   "outputs": [],
   "source": [
    "world = SkyCoord(data_cat[59][1], data_cat[59][2], unit='deg')"
   ]
  },
  {
   "cell_type": "code",
   "execution_count": 42,
   "id": "a4bfaff1-f347-4531-b74f-bf692ad8cd85",
   "metadata": {},
   "outputs": [],
   "source": [
    "position = w.world_to_pixel(world)"
   ]
  },
  {
   "cell_type": "code",
   "execution_count": 45,
   "id": "e6807727-7adf-42f5-9ece-b15b1bad84f0",
   "metadata": {},
   "outputs": [],
   "source": [
    "ccd = CCDData(image[1].data, unit='adu')\n",
    "cutout = Cutout2D(ccd, position, size=50)"
   ]
  },
  {
   "cell_type": "code",
   "execution_count": 46,
   "id": "0336b9dc-83dd-45d9-b6bd-f3498f1cdcdf",
   "metadata": {},
   "outputs": [
    {
     "data": {
      "text/plain": [
       "<matplotlib.image.AxesImage at 0x7fad11b4d6f0>"
      ]
     },
     "execution_count": 46,
     "metadata": {},
     "output_type": "execute_result"
    },
    {
     "data": {
      "image/png": "[encoded data removed]",
      "text/plain": [
       "<Figure size 432x288 with 1 Axes>"
      ]
     },
     "metadata": {
      "needs_background": "light"
     },
     "output_type": "display_data"
    }
   ],
   "source": [
    "plt.imshow(cutout.data, origin='lower')"
   ]
  },
  {
   "cell_type": "code",
   "execution_count": 47,
   "id": "72879831-dac1-4bb0-8296-e46d4bafa305",
   "metadata": {},
   "outputs": [],
   "source": [
    "cutout1 = Cutout2D(ccd, world, wcs=w, size=50)"
   ]
  },
  {
   "cell_type": "code",
   "execution_count": 48,
   "id": "17bf06b5-6bb3-4b84-b72f-a8416b3502db",
   "metadata": {},
   "outputs": [
    {
     "data": {
      "text/plain": [
       "<matplotlib.image.AxesImage at 0x7fad124a3310>"
      ]
     },
     "execution_count": 48,
     "metadata": {},
     "output_type": "execute_result"
    },
    {
     "data": {
      "image/png": "[encoded data removed]",
      "text/plain": [
       "<Figure size 432x288 with 1 Axes>"
      ]
     },
     "metadata": {
      "needs_background": "light"
     },
     "output_type": "display_data"
    }
   ],
   "source": [
    "plt.imshow(cutout1.data, origin='lower')"
   ]
  },
  {
   "cell_type": "code",
   "execution_count": 36,
   "id": "7dc94b9c-2a0a-414e-b0a7-d770075611e8",
   "metadata": {},
   "outputs": [],
   "source": [
    "world = w.pixel_to_world(50, 50)"
   ]
  },
  {
   "cell_type": "code",
   "execution_count": 38,
   "id": "3a14942d-edb2-492b-a986-ce1c89f6bb18",
   "metadata": {},
   "outputs": [
    {
     "data": {
      "text/plain": [
       "astropy.coordinates.sky_coordinate.SkyCoord"
      ]
     },
     "execution_count": 38,
     "metadata": {},
     "output_type": "execute_result"
    }
   ],
   "source": [
    "type(world)"
   ]
  },
  {
   "cell_type": "code",
   "execution_count": 35,
   "id": "8d2722fd-ba3c-4e2f-848b-5f85fd1d8bc9",
   "metadata": {},
   "outputs": [
    {
     "ename": "ValueError",
     "evalue": "Expected the following order of world arguments: SkyCoord",
     "output_type": "error",
     "traceback": [
      "\u001b[0;31m---------------------------------------------------------------------------\u001b[0m",
      "\u001b[0;31mValueError\u001b[0m                                Traceback (most recent call last)",
      "Input \u001b[0;32mIn [35]\u001b[0m, in \u001b[0;36m<module>\u001b[0;34m\u001b[0m\n\u001b[1;32m      1\u001b[0m \u001b[38;5;28;01mfrom\u001b[39;00m \u001b[38;5;21;01mastropy\u001b[39;00m\u001b[38;5;21;01m.\u001b[39;00m\u001b[38;5;21;01mcoordinates\u001b[39;00m \u001b[38;5;28;01mimport\u001b[39;00m SkyCoord\n\u001b[0;32m----> 2\u001b[0m pix \u001b[38;5;241m=\u001b[39m \u001b[43mw\u001b[49m\u001b[38;5;241;43m.\u001b[39;49m\u001b[43mworld_to_pixel\u001b[49m\u001b[43m(\u001b[49m\u001b[43mworld\u001b[49m\u001b[43m)\u001b[49m\n",
      "File \u001b[0;32m~/.local/lib/python3.10/site-packages/astropy/wcs/wcsapi/high_level_api.py:309\u001b[0m, in \u001b[0;36mHighLevelWCSMixin.world_to_pixel\u001b[0;34m(self, *world_objects)\u001b[0m\n\u001b[1;32m    307\u001b[0m \u001b[38;5;28;01mdef\u001b[39;00m \u001b[38;5;21mworld_to_pixel\u001b[39m(\u001b[38;5;28mself\u001b[39m, \u001b[38;5;241m*\u001b[39mworld_objects):\n\u001b[0;32m--> 309\u001b[0m     world_values \u001b[38;5;241m=\u001b[39m \u001b[43mhigh_level_objects_to_values\u001b[49m\u001b[43m(\u001b[49m\u001b[38;5;241;43m*\u001b[39;49m\u001b[43mworld_objects\u001b[49m\u001b[43m,\u001b[49m\u001b[43m \u001b[49m\u001b[43mlow_level_wcs\u001b[49m\u001b[38;5;241;43m=\u001b[39;49m\u001b[38;5;28;43mself\u001b[39;49m\u001b[38;5;241;43m.\u001b[39;49m\u001b[43mlow_level_wcs\u001b[49m\u001b[43m)\u001b[49m\n\u001b[1;32m    311\u001b[0m     \u001b[38;5;66;03m# Finally we convert to pixel coordinates\u001b[39;00m\n\u001b[1;32m    312\u001b[0m     pixel_values \u001b[38;5;241m=\u001b[39m \u001b[38;5;28mself\u001b[39m\u001b[38;5;241m.\u001b[39mlow_level_wcs\u001b[38;5;241m.\u001b[39mworld_to_pixel_values(\u001b[38;5;241m*\u001b[39mworld_values)\n",
      "File \u001b[0;32m~/.local/lib/python3.10/site-packages/astropy/wcs/wcsapi/high_level_api.py:215\u001b[0m, in \u001b[0;36mhigh_level_objects_to_values\u001b[0;34m(low_level_wcs, *world_objects)\u001b[0m\n\u001b[1;32m    213\u001b[0m w \u001b[38;5;241m=\u001b[39m world_objects[ikey]\n\u001b[1;32m    214\u001b[0m \u001b[38;5;28;01mif\u001b[39;00m \u001b[38;5;129;01mnot\u001b[39;00m \u001b[38;5;28misinstance\u001b[39m(w, klass):\n\u001b[0;32m--> 215\u001b[0m     \u001b[38;5;28;01mraise\u001b[39;00m \u001b[38;5;167;01mValueError\u001b[39;00m(\u001b[38;5;124m\"\u001b[39m\u001b[38;5;124mExpected the following order of world \u001b[39m\u001b[38;5;124m\"\u001b[39m\n\u001b[1;32m    216\u001b[0m                      \u001b[38;5;124m\"\u001b[39m\u001b[38;5;124marguments: \u001b[39m\u001b[38;5;132;01m{}\u001b[39;00m\u001b[38;5;124m\"\u001b[39m\u001b[38;5;241m.\u001b[39mformat(\u001b[38;5;124m'\u001b[39m\u001b[38;5;124m, \u001b[39m\u001b[38;5;124m'\u001b[39m\u001b[38;5;241m.\u001b[39mjoin([k\u001b[38;5;241m.\u001b[39m\u001b[38;5;18m__name__\u001b[39m \u001b[38;5;28;01mfor\u001b[39;00m (k, _, _) \u001b[38;5;129;01min\u001b[39;00m classes\u001b[38;5;241m.\u001b[39mvalues()])))\n\u001b[1;32m    218\u001b[0m \u001b[38;5;66;03m# FIXME: For now SkyCoord won't auto-convert upon initialization\u001b[39;00m\n\u001b[1;32m    219\u001b[0m \u001b[38;5;66;03m# https://github.com/astropy/astropy/issues/7689\u001b[39;00m\n\u001b[1;32m    220\u001b[0m \u001b[38;5;28;01mfrom\u001b[39;00m \u001b[38;5;21;01mastropy\u001b[39;00m\u001b[38;5;21;01m.\u001b[39;00m\u001b[38;5;21;01mcoordinates\u001b[39;00m \u001b[38;5;28;01mimport\u001b[39;00m SkyCoord\n",
      "\u001b[0;31mValueError\u001b[0m: Expected the following order of world arguments: SkyCoord"
     ]
    }
   ],
   "source": [
    "from astropy.coordinates import SkyCoord\n",
    "pix = w.world_to_pixel(world)"
   ]
  },
  {
   "cell_type": "code",
   "execution_count": 8,
   "id": "dfdea698-954d-43f5-88c7-0735c29934ab",
   "metadata": {},
   "outputs": [
    {
     "data": {
      "text/plain": [
       "(1093, 1235)"
      ]
     },
     "execution_count": 8,
     "metadata": {},
     "output_type": "execute_result"
    }
   ],
   "source": [
    "image[1].data.shape"
   ]
  },
  {
   "cell_type": "code",
   "execution_count": 9,
   "id": "4e7765ae-1ee2-4752-8b2e-691699401144",
   "metadata": {
    "tags": []
   },
   "outputs": [
    {
     "data": {
      "text/plain": [
       "34.03445833333"
      ]
     },
     "execution_count": 9,
     "metadata": {},
     "output_type": "execute_result"
    }
   ],
   "source": [
    "header['RA_TARG']"
   ]
  }
 ],
 "metadata": {
  "kernelspec": {
   "display_name": "Python 3 (ipykernel)",
   "language": "python",
   "name": "python3"
  },
  "language_info": {
   "codemirror_mode": {
    "name": "ipython",
    "version": 3
   },
   "file_extension": ".py",
   "mimetype": "text/x-python",
   "name": "python",
   "nbconvert_exporter": "python",
   "pygments_lexer": "ipython3",
   "version": "3.9.7"
  }
 },
 "nbformat": 4,
 "nbformat_minor": 5
}
